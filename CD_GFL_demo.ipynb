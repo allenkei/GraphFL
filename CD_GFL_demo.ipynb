{
 "cells": [
  {
   "cell_type": "code",
   "execution_count": 5,
   "metadata": {
    "colab": {
     "base_uri": "https://localhost:8080/"
    },
    "executionInfo": {
     "elapsed": 331,
     "status": "ok",
     "timestamp": 1737932802569,
     "user": {
      "displayName": "Allen Kei",
      "userId": "01162356375273084921"
     },
     "user_tz": 480
    },
    "id": "yFdvBb2l4TgV",
    "outputId": "98f389a9-66cf-4cf5-a4b0-2e9b288acbd7"
   },
   "outputs": [
    {
     "name": "stdout",
     "output_type": "stream",
     "text": [
      "/content/drive/MyDrive/GraphFL\n"
     ]
    }
   ],
   "source": [
    "%cd /content/drive/MyDrive/GraphFL"
   ]
  },
  {
   "cell_type": "code",
   "execution_count": null,
   "metadata": {
    "colab": {
     "base_uri": "https://localhost:8080/"
    },
    "executionInfo": {
     "elapsed": 3380,
     "status": "ok",
     "timestamp": 1737846848711,
     "user": {
      "displayName": "Allen Kei",
      "userId": "01162356375273084921"
     },
     "user_tz": 480
    },
    "id": "zuXjZq_Pefvh",
    "outputId": "d936aaac-7b0a-42ca-e984-3afd9da65c4f"
   },
   "outputs": [],
   "source": [
    "!python sim_data_s1.py"
   ]
  },
  {
   "cell_type": "code",
   "execution_count": null,
   "metadata": {
    "colab": {
     "base_uri": "https://localhost:8080/"
    },
    "executionInfo": {
     "elapsed": 147962,
     "status": "ok",
     "timestamp": 1737933485156,
     "user": {
      "displayName": "Allen Kei",
      "userId": "01162356375273084921"
     },
     "user_tz": 480
    },
    "id": "cJf0LcwYhUhw",
    "outputId": "6f0df9af-e209-45e0-eb3b-3598e2db5efa"
   },
   "outputs": [],
   "source": [
    "%rm -rf result/s1\n",
    "!python CD_GFL_sim_temporal.py"
   ]
  }
 ],
 "metadata": {
  "accelerator": "GPU",
  "colab": {
   "authorship_tag": "ABX9TyNTYNWoBVVnmhwUL8U78fWM",
   "gpuType": "A100",
   "machine_shape": "hm",
   "mount_file_id": "1Oh4dqlBJYZz-RW1J7EM_nqnX4ewTxUXf",
   "provenance": []
  },
  "kernelspec": {
   "display_name": "Python 3",
   "name": "python3"
  },
  "language_info": {
   "name": "python"
  }
 },
 "nbformat": 4,
 "nbformat_minor": 0
}
