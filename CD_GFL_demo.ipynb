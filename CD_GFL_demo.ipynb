{
 "cells": [
  {
   "cell_type": "code",
   "execution_count": null,
   "metadata": {
    "colab": {
     "base_uri": "https://localhost:8080/"
    },
    "executionInfo": {
     "elapsed": 16,
     "status": "ok",
     "timestamp": 1738797604120,
     "user": {
      "displayName": "Allen Kei",
      "userId": "01162356375273084921"
     },
     "user_tz": 480
    },
    "id": "yFdvBb2l4TgV",
    "outputId": "3e36dff0-7256-48f8-e077-e95861e06ed7"
   },
   "outputs": [
    {
     "name": "stdout",
     "output_type": "stream",
     "text": [
      "/content/drive/MyDrive/GraphFL\n"
     ]
    }
   ],
   "source": [
    "%cd /content/drive/MyDrive/GraphFL"
   ]
  },
  {
   "cell_type": "code",
   "execution_count": null,
   "metadata": {
    "colab": {
     "base_uri": "https://localhost:8080/"
    },
    "executionInfo": {
     "elapsed": 6327,
     "status": "ok",
     "timestamp": 1738797612140,
     "user": {
      "displayName": "Allen Kei",
      "userId": "01162356375273084921"
     },
     "user_tz": 480
    },
    "id": "zuXjZq_Pefvh",
    "outputId": "8be94425-e882-4370-b42a-05ddb4c53c05"
   },
   "outputs": [],
   "source": [
    "# Generate simulated data\n",
    "!python sim_data_s1.py"
   ]
  },
  {
   "cell_type": "code",
   "execution_count": null,
   "metadata": {
    "colab": {
     "background_save": true,
     "base_uri": "https://localhost:8080/"
    },
    "id": "cJf0LcwYhUhw"
   },
   "outputs": [],
   "source": [
    "# Run detection\n",
    "%rm -rf result/s1\n",
    "!python CD_GFL_sim_temporal.py"
   ]
  }
 ],
 "metadata": {
  "accelerator": "GPU",
  "colab": {
   "authorship_tag": "ABX9TyOzkCXv5TEyA37dxAmV05Fx",
   "gpuType": "A100",
   "machine_shape": "hm",
   "mount_file_id": "1Oh4dqlBJYZz-RW1J7EM_nqnX4ewTxUXf",
   "name": "",
   "version": ""
  },
  "kernelspec": {
   "display_name": "Python 3",
   "name": "python3"
  },
  "language_info": {
   "name": "python"
  }
 },
 "nbformat": 4,
 "nbformat_minor": 0
}
